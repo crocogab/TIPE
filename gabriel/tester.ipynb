{
 "cells": [
  {
   "cell_type": "code",
   "execution_count": 2,
   "metadata": {},
   "outputs": [
    {
     "name": "stdout",
     "output_type": "stream",
     "text": [
      "[DEBUG] initialisation terminee\n"
     ]
    }
   ],
   "source": [
    "import sys\n",
    "sys.path.insert(1, 'GeneticAlgoClean')\n",
    "import uuid\n",
    "from sharing import init_clusters\n",
    "from individu import Individu\n",
    "\n",
    "\n",
    "i1=Individu()\n",
    "i1.chromosomes[0]=1\n",
    "i1.chromosomes[1]=1\n",
    "i1.chromosomes[2]=1\n",
    "i1.name=uuid.uuid4()\n",
    "i1.evaluate()\n",
    "\n",
    "i2=Individu()\n",
    "i2.chromosomes[3]=1\n",
    "i2.chromosomes[4]=1\n",
    "i2.chromosomes[5]=1\n",
    "i2.name=uuid.uuid4()\n",
    "i2.evaluate()\n",
    "\n",
    "i3=Individu()\n",
    "i3.name=uuid.uuid4()\n",
    "i3.evaluate()\n",
    "\n",
    "liste_individu=[i1,i2,i3]\n",
    "\n",
    "clusters=init_clusters(liste_individu)\n"
   ]
  },
  {
   "cell_type": "code",
   "execution_count": 40,
   "metadata": {},
   "outputs": [],
   "source": [
    "import random as rd\n",
    "import numpy as np\n",
    "from scipy.spatial import distance\n",
    "\n",
    "def euclidean_distance_fast(list1, list2):\n",
    "    return distance.euclidean(list1, list2)\n",
    "\n",
    "\n",
    "from math import sqrt\n",
    "\n",
    "l1=[rd.randint(0,1) for _ in range(100000)]\n",
    "l2=[rd.randint(0,1) for _ in range(100000)]\n",
    "\n",
    "\n",
    "def euclidean_distance(list1, list2):\n",
    "    return np.linalg.norm(np.array(list1) - np.array(list2))\n",
    "\n",
    "def distance_liste(l1:list,l2:list):\n",
    "  \"\"\"Distance entre deux listes (de chromosomes)\"\"\"\n",
    "  return np.sqrt(sum([(l2[i] - l1[i])**2 for i in range(100000)]))\n"
   ]
  },
  {
   "cell_type": "code",
   "execution_count": 60,
   "metadata": {},
   "outputs": [
    {
     "name": "stdout",
     "output_type": "stream",
     "text": [
      "CPU times: total: 15.6 ms\n",
      "Wall time: 11 ms\n"
     ]
    },
    {
     "data": {
      "text/plain": [
       "223.03362975121038"
      ]
     },
     "execution_count": 60,
     "metadata": {},
     "output_type": "execute_result"
    }
   ],
   "source": [
    "%%time\n",
    "euclidean_distance_fast(l1,l2)"
   ]
  },
  {
   "cell_type": "code",
   "execution_count": 59,
   "metadata": {},
   "outputs": [
    {
     "name": "stdout",
     "output_type": "stream",
     "text": [
      "CPU times: total: 0 ns\n",
      "Wall time: 11 ms\n"
     ]
    },
    {
     "data": {
      "text/plain": [
       "223.03362975121038"
      ]
     },
     "execution_count": 59,
     "metadata": {},
     "output_type": "execute_result"
    }
   ],
   "source": [
    "%%time\n",
    "euclidean_distance(l1,l2)"
   ]
  },
  {
   "cell_type": "code",
   "execution_count": 57,
   "metadata": {},
   "outputs": [
    {
     "name": "stdout",
     "output_type": "stream",
     "text": [
      "CPU times: total: 0 ns\n",
      "Wall time: 9.01 ms\n"
     ]
    },
    {
     "data": {
      "text/plain": [
       "223.03362975121038"
      ]
     },
     "execution_count": 57,
     "metadata": {},
     "output_type": "execute_result"
    }
   ],
   "source": [
    "%%time \n",
    "distance_liste(l1,l2)\n"
   ]
  },
  {
   "cell_type": "code",
   "execution_count": null,
   "metadata": {},
   "outputs": [],
   "source": []
  },
  {
   "cell_type": "code",
   "execution_count": null,
   "metadata": {},
   "outputs": [],
   "source": [
    "liste=[[1,2],[3,4]]\n",
    "max=liste[1]\n",
    "del liste[1]\n",
    "print(max)\n",
    "liste"
   ]
  }
 ],
 "metadata": {
  "kernelspec": {
   "display_name": "Python 3",
   "language": "python",
   "name": "python3"
  },
  "language_info": {
   "codemirror_mode": {
    "name": "ipython",
    "version": 3
   },
   "file_extension": ".py",
   "mimetype": "text/x-python",
   "name": "python",
   "nbconvert_exporter": "python",
   "pygments_lexer": "ipython3",
   "version": "3.11.8"
  }
 },
 "nbformat": 4,
 "nbformat_minor": 2
}
