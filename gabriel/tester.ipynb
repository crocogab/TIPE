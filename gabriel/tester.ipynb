{
 "cells": [
  {
   "cell_type": "code",
   "execution_count": 2,
   "metadata": {},
   "outputs": [
    {
     "name": "stdout",
     "output_type": "stream",
     "text": [
      "[DEBUG] initialisation terminee\n"
     ]
    }
   ],
   "source": [
    "import sys\n",
    "sys.path.insert(1, 'GeneticAlgoClean')\n",
    "import uuid\n",
    "from sharing import init_clusters\n",
    "from individu import Individu\n",
    "\n",
    "\n",
    "i1=Individu()\n",
    "i1.chromosomes[0]=1\n",
    "i1.chromosomes[1]=1\n",
    "i1.chromosomes[2]=1\n",
    "i1.name=uuid.uuid4()\n",
    "i1.evaluate()\n",
    "\n",
    "i2=Individu()\n",
    "i2.chromosomes[3]=1\n",
    "i2.chromosomes[4]=1\n",
    "i2.chromosomes[5]=1\n",
    "i2.name=uuid.uuid4()\n",
    "i2.evaluate()\n",
    "\n",
    "i3=Individu()\n",
    "i3.name=uuid.uuid4()\n",
    "i3.evaluate()\n",
    "\n",
    "liste_individu=[i1,i2,i3]\n",
    "\n",
    "clusters=init_clusters(liste_individu)\n"
   ]
  },
  {
   "cell_type": "code",
   "execution_count": 80,
   "metadata": {},
   "outputs": [],
   "source": [
    "import random as rd\n",
    "import numpy as np\n",
    "from scipy.spatial import distance\n",
    "\n",
    "def euclidean_distance_fast(list1, list2):\n",
    "    return distance.euclidean(list1, list2)\n",
    "\n",
    "\n",
    "from math import sqrt\n",
    "\n",
    "l1=[rd.randint(0,1) for _ in range(1000000)]\n",
    "l2=[rd.randint(0,1) for _ in range(1000000)]\n",
    "\n",
    "\n",
    "def euclidean_distance(list1, list2):\n",
    "    return np.linalg.norm(np.array(list1) - np.array(list2))\n",
    "\n",
    "def distance_liste(l1:list,l2:list):\n",
    "  \"\"\"Distance entre deux listes (de chromosomes)\"\"\"\n",
    "  return sqrt(sum([(l2[i] - l1[i])**2 for i in range(1000000)]))\n"
   ]
  },
  {
   "cell_type": "code",
   "execution_count": 81,
   "metadata": {},
   "outputs": [
    {
     "name": "stdout",
     "output_type": "stream",
     "text": [
      "CPU times: total: 125 ms\n",
      "Wall time: 113 ms\n"
     ]
    },
    {
     "data": {
      "text/plain": [
       "706.434710358997"
      ]
     },
     "execution_count": 81,
     "metadata": {},
     "output_type": "execute_result"
    }
   ],
   "source": [
    "%%time\n",
    "euclidean_distance_fast(l1,l2)"
   ]
  },
  {
   "cell_type": "code",
   "execution_count": 82,
   "metadata": {},
   "outputs": [
    {
     "name": "stdout",
     "output_type": "stream",
     "text": [
      "CPU times: total: 125 ms\n",
      "Wall time: 132 ms\n"
     ]
    },
    {
     "data": {
      "text/plain": [
       "706.434710358997"
      ]
     },
     "execution_count": 82,
     "metadata": {},
     "output_type": "execute_result"
    }
   ],
   "source": [
    "%%time\n",
    "euclidean_distance(l1,l2)"
   ]
  },
  {
   "cell_type": "code",
   "execution_count": 86,
   "metadata": {},
   "outputs": [
    {
     "name": "stdout",
     "output_type": "stream",
     "text": [
      "CPU times: total: 93.8 ms\n",
      "Wall time: 97 ms\n"
     ]
    },
    {
     "data": {
      "text/plain": [
       "706.434710358997"
      ]
     },
     "execution_count": 86,
     "metadata": {},
     "output_type": "execute_result"
    }
   ],
   "source": [
    "%%time \n",
    "distance_liste(l1,l2)\n"
   ]
  },
  {
   "cell_type": "code",
   "execution_count": null,
   "metadata": {},
   "outputs": [],
   "source": []
  },
  {
   "cell_type": "code",
   "execution_count": 18,
   "metadata": {},
   "outputs": [
    {
     "name": "stdout",
     "output_type": "stream",
     "text": [
      "0.5114\n"
     ]
    }
   ],
   "source": [
    "sys.path.insert(1, 'GeneticAlgoClean')\n",
    "from tkinter import *\n",
    "from individu import *\n",
    "import json\n",
    "\n",
    "\n",
    "\n",
    "i1=Individu()\n",
    "\n",
    "i1.chromosomes[i1.convert(16,False,7)]=1\n",
    "i1.chromosomes[i1.convert(15,False,7)]=1\n",
    "i1.chromosomes[i1.convert(14,False,7)]=1\n",
    "i1.chromosomes[i1.convert(13,False,7)]=1\n",
    "i1.chromosomes[i1.convert(12,False,7)]=1\n",
    "i1.chromosomes[i1.convert(11,False,7)]=1\n",
    "\n",
    "i1.chromosomes[i1.convert(16,False,8)]=1\n",
    "i1.chromosomes[i1.convert(15,False,8)]=1\n",
    "i1.chromosomes[i1.convert(14,False,8)]=1\n",
    "i1.chromosomes[i1.convert(13,False,8)]=1\n",
    "i1.chromosomes[i1.convert(12,False,8)]=1\n",
    "i1.chromosomes[i1.convert(11,False,8)]=1\n",
    "\n",
    "i1.chromosomes[i1.convert(16,False,9)]=1\n",
    "i1.chromosomes[i1.convert(15,False,9)]=1\n",
    "i1.chromosomes[i1.convert(14,False,9)]=1\n",
    "i1.chromosomes[i1.convert(13,False,9)]=1\n",
    "i1.chromosomes[i1.convert(12,False,9)]=1\n",
    "i1.chromosomes[i1.convert(11,False,9)]=1\n",
    "\n",
    "i1.chromosomes[i1.convert(16,False,10)]=1\n",
    "i1.chromosomes[i1.convert(15,False,10)]=1\n",
    "i1.chromosomes[i1.convert(14,False,10)]=1\n",
    "i1.chromosomes[i1.convert(13,False,10)]=1\n",
    "i1.chromosomes[i1.convert(12,False,10)]=1\n",
    "i1.chromosomes[i1.convert(11,False,10)]=1\n",
    "\n",
    "i1.chromosomes[i1.convert(16,False,1)]=1\n",
    "i1.chromosomes[i1.convert(15,False,1)]=1\n",
    "i1.chromosomes[i1.convert(14,False,1)]=1\n",
    "i1.chromosomes[i1.convert(13,False,1)]=1\n",
    "i1.chromosomes[i1.convert(12,False,1)]=1\n",
    "i1.chromosomes[i1.convert(11,False,1)]=1\n",
    "\n",
    "i1.chromosomes[i1.convert(12,False,2)]=1\n",
    "i1.chromosomes[i1.convert(11,False,2)]=1\n",
    "i1.chromosomes[i1.convert(12,False,3)]=1\n",
    "i1.chromosomes[i1.convert(11,False,3)]=1\n",
    "i1.chromosomes[i1.convert(12,False,4)]=1\n",
    "i1.chromosomes[i1.convert(11,False,4)]=1\n",
    "i1.chromosomes[i1.convert(12,False,5)]=1\n",
    "i1.chromosomes[i1.convert(11,False,5)]=1\n",
    "i1.chromosomes[i1.convert(12,False,6)]=1\n",
    "i1.chromosomes[i1.convert(11,False,6)]=1\n",
    "\n",
    "for i in range(2,11):\n",
    "    i1.chromosomes[i1.convert(17,True,i)]=1\n",
    "    i1.chromosomes[i1.convert(16,True,i)]=1\n",
    "    i1.chromosomes[i1.convert(15,True,i)]=1\n",
    "    i1.chromosomes[i1.convert(14,True,i)]=1\n",
    "    i1.chromosomes[i1.convert(13,True,i)]=1\n",
    "    i1.chromosomes[i1.convert(12,True,i)]=1\n",
    "    i1.chromosomes[i1.convert(11,True,i)]=1\n",
    "    i1.chromosomes[i1.convert(10,True,i)]=1\n",
    "\n",
    "i1.chromosomes[i1.convert(17,True,1)]=1\n",
    "i1.chromosomes[i1.convert(16,True,1)]=1\n",
    "i1.chromosomes[i1.convert(15,True,1)]=1\n",
    "i1.chromosomes[i1.convert(14,True,1)]=1\n",
    "i1.chromosomes[i1.convert(13,True,1)]=1\n",
    "i1.chromosomes[i1.convert(12,True,1)]=1\n",
    "i1.chromosomes[i1.convert(11,True,1)]=1\n",
    "i1.chromosomes[i1.convert(10,True,1)]=1\n",
    "\n",
    "\n",
    "i1.chromosomes[i1.convert(17,True,7)]=0\n",
    "i1.chromosomes[i1.convert(17,True,8)]=0\n",
    "\n",
    "list_chromosomes = i1.chromosomes\n",
    "\n",
    "\n",
    "fenetre = Tk()\n",
    "\n",
    "tableau = []\n",
    "for i in range(20):\n",
    "    ligne=[]\n",
    "    for j in range(11):\n",
    "        if j>0 and j<10 and i==0:\n",
    "            case= Label(fenetre, text=j+1, borderwidth=1, relief=\"solid\", width=8, height=3)\n",
    "        elif j==10 and i==0:\n",
    "            case= Label(fenetre, text=\"AS\", borderwidth=1, relief=\"solid\", width=8, height=3)\n",
    "        elif j==0 and i>0 and i<10:\n",
    "            case= Label(fenetre, text=21-i, borderwidth=1, relief=\"solid\", width=8, height=3)\n",
    "        elif j==0 and i>0 and i==10:\n",
    "            case= Label(fenetre, text=\"2-11\", borderwidth=1, relief=\"solid\", width=8, height=3)\n",
    "        elif j==0 and i==11:\n",
    "            case= Label(fenetre, text=\"AS 18/20\", borderwidth=1, relief=\"solid\", width=8, height=3)\n",
    "        elif j==0 and i>11 and i<20:\n",
    "            case= Label(fenetre, text=f\"AS {29-i}\", borderwidth=1, relief=\"solid\", width=8, height=3)\n",
    "        else:\n",
    "            case= Label(fenetre, text=\" \", borderwidth=1, relief=\"solid\", width=8, height=3)\n",
    "        case.grid(row=i, column=j)\n",
    "        ligne.append(case)\n",
    "    tableau.append(ligne)\n",
    "\n",
    "index=0\n",
    "for i in range(1,11):\n",
    "    # i -> colonnes\n",
    "    for j in reversed(range(1,11)):\n",
    "        # j-> lignes\n",
    "        if list_chromosomes[index]==1:\n",
    "            tableau[j][i].configure(bg=\"green\")\n",
    "            index+=1\n",
    "        else:\n",
    "            tableau[j][i].configure(bg=\"red\")\n",
    "            index+=1\n",
    "    for j in range(13,22):\n",
    "        \n",
    "        if list_chromosomes[index]==1:\n",
    "            tableau[12-j][i].configure(bg=\"green\")\n",
    "            index+=1\n",
    "        else:\n",
    "            tableau[12-j][i].configure(bg=\"red\")\n",
    "            index+=1\n",
    "        \n",
    "i1.evaluate()\n",
    "print(i1.fitness)\n",
    "fenetre.mainloop()  \n"
   ]
  },
  {
   "cell_type": "code",
   "execution_count": null,
   "metadata": {},
   "outputs": [],
   "source": [
    "a=[0,1,2]\n",
    "class cluster:\n",
    "    def __init__(self) -> None:\n",
    "        self.individus = []\n",
    "        self.best_individu=None\n",
    "        self.individus_name=[]\n",
    "        self.centre = []\n",
    "\n",
    "c=cluster()\n",
    "c.centre=a\n",
    "\n",
    "c.centre[0]=1\n",
    "print(a)"
   ]
  }
 ],
 "metadata": {
  "kernelspec": {
   "display_name": "Python 3",
   "language": "python",
   "name": "python3"
  },
  "language_info": {
   "codemirror_mode": {
    "name": "ipython",
    "version": 3
   },
   "file_extension": ".py",
   "mimetype": "text/x-python",
   "name": "python",
   "nbconvert_exporter": "python",
   "pygments_lexer": "ipython3",
   "version": "3.11.8"
  }
 },
 "nbformat": 4,
 "nbformat_minor": 2
}
